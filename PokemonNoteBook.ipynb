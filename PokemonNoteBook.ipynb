﻿{
 "cells": [
  {
   "cell_type": "code",
   "id": "initial_id",
   "metadata": {
    "collapsed": true
   },
   "source": [
    "import pandas as pd\n",
    "\n",
    "csv_file = \"data/pokemons.csv\"\n",
    "df = pd.read_csv(csv_file)\n",
    "\n",
    "print(df.head())\n",
    "display(df)"
   ],
   "outputs": [],
   "execution_count": null
  },
  {
   "metadata": {},
   "cell_type": "code",
   "source": [
    "from src import draw_utils as draw\n",
    "from src import query_utils as q\n",
    "\n",
    "type1_counts = q.filter_with_other_category(df[\"Type 1\"], 4)\n",
    "draw.draw_pie_chart(type1_counts, type1_counts.index, \"Type 1 Distribution\")\n",
    "draw.save_png(\"type1_distribution.png\")\n",
    "\n",
    "\n",
    "type2_counts = q.filter_with_other_category(df[\"Type 2\"], 4)\n",
    "draw.draw_pie_chart(type2_counts, type2_counts.index, \"Type 2 Distribution\")\n",
    "draw.save_png(\"type2_distribution.png\")"
   ],
   "id": "b5a6043ce2b89eba",
   "outputs": [],
   "execution_count": null
  },
  {
   "metadata": {},
   "cell_type": "markdown",
   "source": [
    "## Type 1 and Type 2 Distribution\n",
    "\n",
    "# Graphiques Alignés Horizontalement\n",
    "\n",
    "| Graphique 1                 | Graphique 2                                   |\n",
    "|-----------------------------|-----------------------------------------------|\n",
    "| ![Graphique 1](output/type1_distribution.png) | ![Graphique 2](output/type2_distribution.png) |"
   ],
   "id": "2c43a0383172e5bc"
  }
 ],
 "metadata": {
  "kernelspec": {
   "display_name": "Python 3",
   "language": "python",
   "name": "python3"
  },
  "language_info": {
   "codemirror_mode": {
    "name": "ipython",
    "version": 2
   },
   "file_extension": ".py",
   "mimetype": "text/x-python",
   "name": "python",
   "nbconvert_exporter": "python",
   "pygments_lexer": "ipython2",
   "version": "2.7.6"
  }
 },
 "nbformat": 4,
 "nbformat_minor": 5
}
